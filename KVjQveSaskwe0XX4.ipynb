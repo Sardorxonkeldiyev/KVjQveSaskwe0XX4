{
  "nbformat": 4,
  "nbformat_minor": 0,
  "metadata": {
    "colab": {
      "private_outputs": true,
      "provenance": [],
      "gpuType": "T4"
    },
    "kernelspec": {
      "name": "python3",
      "display_name": "Python 3"
    },
    "language_info": {
      "name": "python"
    },
    "accelerator": "GPU"
  },
  "cells": [
    {
      "cell_type": "code",
      "source": [
        "!pip install catboost\n"
      ],
      "metadata": {
        "id": "QwY6h4kA6lXo"
      },
      "execution_count": null,
      "outputs": []
    },
    {
      "cell_type": "markdown",
      "source": [
        "# Library:"
      ],
      "metadata": {
        "id": "9GqpNd97bK08"
      }
    },
    {
      "cell_type": "code",
      "execution_count": null,
      "metadata": {
        "id": "REYkAW9W14rA"
      },
      "outputs": [],
      "source": [
        "import pandas as pd\n",
        "import numpy as np\n",
        "from sklearn.model_selection import train_test_split\n",
        "from sklearn.linear_model import LogisticRegression\n",
        "from sklearn.metrics import accuracy_score, classification_report\n",
        "from catboost import CatBoostClassifier\n",
        "import matplotlib.pyplot as plt\n",
        "import seaborn as sns"
      ]
    },
    {
      "cell_type": "markdown",
      "source": [
        "* Y = target attribute (Y) with values indicating 0 (unhappy) and 1 (happy) customers\n",
        "* X1 = my order was delivered on time\n",
        "* X2 = contents of my order was as I expected\n",
        "* X3 = I ordered everything I wanted to order\n",
        "* X4 = I paid a good price for my order\n",
        "* X5 = I am satisfied with my courier\n",
        "* X6 = the app makes ordering easy for me"
      ],
      "metadata": {
        "id": "VLZ017Lj23QX"
      }
    },
    {
      "cell_type": "markdown",
      "source": [
        "# Data:"
      ],
      "metadata": {
        "id": "LGGOTSZ_bi7Q"
      }
    },
    {
      "cell_type": "code",
      "source": [
        "df  = pd.read_csv('/content/ACME-HappinessSurvey2020.csv')\n",
        "df.head()"
      ],
      "metadata": {
        "id": "YbvO_hFT2Z5a"
      },
      "execution_count": null,
      "outputs": []
    },
    {
      "cell_type": "markdown",
      "source": [
        "# Data Analysis:"
      ],
      "metadata": {
        "id": "tlP17wQZbnIo"
      }
    },
    {
      "cell_type": "code",
      "source": [
        "df.shape"
      ],
      "metadata": {
        "id": "5atMAgGe2jk4"
      },
      "execution_count": null,
      "outputs": []
    },
    {
      "cell_type": "code",
      "source": [
        "df.info()"
      ],
      "metadata": {
        "id": "I_fRHkWD2eWZ"
      },
      "execution_count": null,
      "outputs": []
    },
    {
      "cell_type": "code",
      "source": [
        "df.isnull().sum()"
      ],
      "metadata": {
        "id": "QVh7zcFX4OIg"
      },
      "execution_count": null,
      "outputs": []
    },
    {
      "cell_type": "code",
      "source": [
        "df.duplicated().sum()"
      ],
      "metadata": {
        "id": "_JugZlFeXlaI"
      },
      "execution_count": null,
      "outputs": []
    },
    {
      "cell_type": "markdown",
      "source": [
        "# Z-skor (Z-score) :"
      ],
      "metadata": {
        "id": "OdjejdICa4YV"
      }
    },
    {
      "cell_type": "code",
      "source": [
        "import numpy as np\n",
        "\n",
        "# Calculating the Z-score\n",
        "z_scores = np.abs((df - df.mean()) / df.std())\n",
        "\n",
        "# Harvest Threshold and by changing this limit\n",
        "# identify outliers\n",
        "threshold = 3\n",
        "outliers = df[(z_scores > threshold).any(axis=1)]\n",
        "\n",
        "# Removing outliers\n",
        "df_no_outliers = df[(z_scores <= threshold).all(axis=1)]"
      ],
      "metadata": {
        "id": "-oKYFpOtZ-_F"
      },
      "execution_count": null,
      "outputs": []
    },
    {
      "cell_type": "code",
      "source": [
        "corr = df.corr()\n",
        "corr"
      ],
      "metadata": {
        "id": "pClkaUSzCCBo"
      },
      "execution_count": null,
      "outputs": []
    },
    {
      "cell_type": "code",
      "source": [
        "# Correlation Matrix:\n",
        "correlation = corr\n",
        "\n",
        "plt.figure(figsize=(10,6))\n",
        "sns.heatmap(correlation,annot=True, cmap='coolwarm',fmt=\".2f\", linewidths=0.5)\n",
        "plt.title('Correlation Matrix')\n",
        "plt.show()"
      ],
      "metadata": {
        "id": "lHbvhu7LCi81"
      },
      "execution_count": null,
      "outputs": []
    },
    {
      "cell_type": "code",
      "source": [
        "X = df.drop(['Y','X2'],axis=1)\n",
        "y = df['Y']"
      ],
      "metadata": {
        "id": "poobOuEB4RJo"
      },
      "execution_count": null,
      "outputs": []
    },
    {
      "cell_type": "code",
      "source": [
        "X_train,X_test,y_train,y_test = train_test_split(X,y,test_size=0.2,random_state=42)"
      ],
      "metadata": {
        "id": "k9dcMbV-4Zre"
      },
      "execution_count": null,
      "outputs": []
    },
    {
      "cell_type": "markdown",
      "source": [
        "# ML: (LogisticRegression)"
      ],
      "metadata": {
        "id": "44UtUul6cFdz"
      }
    },
    {
      "cell_type": "code",
      "source": [
        "model = LogisticRegression()\n",
        "model.fit(X_train,y_train)\n",
        "\n"
      ],
      "metadata": {
        "id": "iyoQkNiR4tz3"
      },
      "execution_count": null,
      "outputs": []
    },
    {
      "cell_type": "code",
      "source": [
        "y_pred = model.predict(X_test)\n",
        "\n",
        "accuracy = accuracy_score(y_test, y_pred)\n",
        "report = classification_report(y_test, y_pred)\n",
        "\n",
        "print(\"Modelning accuracy:\", accuracy)\n",
        "print(\"Result:\\n\", report)"
      ],
      "metadata": {
        "id": "Hc1UhPCk5rW-"
      },
      "execution_count": null,
      "outputs": []
    },
    {
      "cell_type": "markdown",
      "source": [
        "# ML: (CatBoostClassifierr)"
      ],
      "metadata": {
        "id": "reeJSR_OcNj2"
      }
    },
    {
      "cell_type": "code",
      "source": [
        "ctb_model = CatBoostClassifier()\n",
        "ctb_model.fit(X_train,y_train)"
      ],
      "metadata": {
        "id": "A-dmPB_v6J9m"
      },
      "execution_count": null,
      "outputs": []
    },
    {
      "cell_type": "code",
      "source": [
        "y_pred_ctb = ctb_model.predict(X_test)\n",
        "accuracy_ctb = accuracy_score(y_test, y_pred_ctb)\n",
        "report_ctb = classification_report(y_test,y_pred_ctb)\n",
        "\n",
        "print(\"Accuracy score: {:.2f}%\".format(accuracy_ctb * 100))\n",
        "print(\"Classification report:\\n\", report_ctb)"
      ],
      "metadata": {
        "id": "Sel5QyMU64VU"
      },
      "execution_count": null,
      "outputs": []
    },
    {
      "cell_type": "markdown",
      "source": [
        "# ML: Decision Tree"
      ],
      "metadata": {
        "id": "WpAF9d0KcSmr"
      }
    },
    {
      "cell_type": "code",
      "source": [
        "from sklearn.tree import DecisionTreeClassifier\n",
        "dt_model = DecisionTreeClassifier()\n",
        "\n",
        "dt_model.fit(X_train, y_train)\n",
        "\n",
        "y_pred_dt = dt_model.predict(X_test)\n",
        "\n",
        "accuracy_dt = accuracy_score(y_test, y_pred_dt)\n",
        "report_dt = classification_report(y_test, y_pred_dt)\n",
        "\n",
        "print(\"Decision Tree model accuracy:\", accuracy_dt)\n",
        "print(\"Classification report:\\n\", report_dt)"
      ],
      "metadata": {
        "id": "VyoRw9G0D1n7"
      },
      "execution_count": null,
      "outputs": []
    },
    {
      "cell_type": "code",
      "source": [],
      "metadata": {
        "id": "BvXpsAutW0FG"
      },
      "execution_count": null,
      "outputs": []
    }
  ]
}